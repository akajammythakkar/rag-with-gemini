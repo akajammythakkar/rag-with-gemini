{
  "cells": [
    {
      "cell_type": "markdown",
      "metadata": {
        "id": "view-in-github",
        "colab_type": "text"
      },
      "source": [
        "<a href=\"https://colab.research.google.com/github/akajammythakkar/rag-with-gemini/blob/main/RAG_with_Gemini.ipynb\" target=\"_parent\"><img src=\"https://colab.research.google.com/assets/colab-badge.svg\" alt=\"Open In Colab\"/></a>"
      ]
    },
    {
      "cell_type": "code",
      "source": [
        "# install libraries\n",
        "!pip install langchain chromadb pypdf google-generativeai sentence_transformers"
      ],
      "metadata": {
        "colab": {
          "base_uri": "https://localhost:8080/"
        },
        "id": "FmZxGAfk70a3",
        "outputId": "7ce5dbec-a9e9-44c5-b87e-341e520c1626"
      },
      "id": "FmZxGAfk70a3",
      "execution_count": 3,
      "outputs": [
        {
          "output_type": "stream",
          "name": "stdout",
          "text": [
            "Requirement already satisfied: langchain in /usr/local/lib/python3.10/dist-packages (0.2.1)\n",
            "Requirement already satisfied: chromadb in /usr/local/lib/python3.10/dist-packages (0.5.0)\n",
            "Collecting pypdf\n",
            "  Downloading pypdf-4.2.0-py3-none-any.whl (290 kB)\n",
            "\u001b[2K     \u001b[90m━━━━━━━━━━━━━━━━━━━━━━━━━━━━━━━━━━━━━━━━\u001b[0m \u001b[32m290.4/290.4 kB\u001b[0m \u001b[31m4.3 MB/s\u001b[0m eta \u001b[36m0:00:00\u001b[0m\n",
            "\u001b[?25hRequirement already satisfied: google-generativeai in /usr/local/lib/python3.10/dist-packages (0.5.4)\n",
            "Requirement already satisfied: sentence_transformers in /usr/local/lib/python3.10/dist-packages (2.7.0)\n",
            "Requirement already satisfied: PyYAML>=5.3 in /usr/local/lib/python3.10/dist-packages (from langchain) (6.0.1)\n",
            "Requirement already satisfied: SQLAlchemy<3,>=1.4 in /usr/local/lib/python3.10/dist-packages (from langchain) (2.0.30)\n",
            "Requirement already satisfied: aiohttp<4.0.0,>=3.8.3 in /usr/local/lib/python3.10/dist-packages (from langchain) (3.9.5)\n",
            "Requirement already satisfied: async-timeout<5.0.0,>=4.0.0 in /usr/local/lib/python3.10/dist-packages (from langchain) (4.0.3)\n",
            "Requirement already satisfied: langchain-core<0.3.0,>=0.2.0 in /usr/local/lib/python3.10/dist-packages (from langchain) (0.2.1)\n",
            "Requirement already satisfied: langchain-text-splitters<0.3.0,>=0.2.0 in /usr/local/lib/python3.10/dist-packages (from langchain) (0.2.0)\n",
            "Requirement already satisfied: langsmith<0.2.0,>=0.1.17 in /usr/local/lib/python3.10/dist-packages (from langchain) (0.1.63)\n",
            "Requirement already satisfied: numpy<2,>=1 in /usr/local/lib/python3.10/dist-packages (from langchain) (1.25.2)\n",
            "Requirement already satisfied: pydantic<3,>=1 in /usr/local/lib/python3.10/dist-packages (from langchain) (2.7.1)\n",
            "Requirement already satisfied: requests<3,>=2 in /usr/local/lib/python3.10/dist-packages (from langchain) (2.31.0)\n",
            "Requirement already satisfied: tenacity<9.0.0,>=8.1.0 in /usr/local/lib/python3.10/dist-packages (from langchain) (8.3.0)\n",
            "Requirement already satisfied: build>=1.0.3 in /usr/local/lib/python3.10/dist-packages (from chromadb) (1.2.1)\n",
            "Requirement already satisfied: chroma-hnswlib==0.7.3 in /usr/local/lib/python3.10/dist-packages (from chromadb) (0.7.3)\n",
            "Requirement already satisfied: fastapi>=0.95.2 in /usr/local/lib/python3.10/dist-packages (from chromadb) (0.111.0)\n",
            "Requirement already satisfied: uvicorn[standard]>=0.18.3 in /usr/local/lib/python3.10/dist-packages (from chromadb) (0.29.0)\n",
            "Requirement already satisfied: posthog>=2.4.0 in /usr/local/lib/python3.10/dist-packages (from chromadb) (3.5.0)\n",
            "Requirement already satisfied: typing-extensions>=4.5.0 in /usr/local/lib/python3.10/dist-packages (from chromadb) (4.11.0)\n",
            "Requirement already satisfied: onnxruntime>=1.14.1 in /usr/local/lib/python3.10/dist-packages (from chromadb) (1.18.0)\n",
            "Requirement already satisfied: opentelemetry-api>=1.2.0 in /usr/local/lib/python3.10/dist-packages (from chromadb) (1.24.0)\n",
            "Requirement already satisfied: opentelemetry-exporter-otlp-proto-grpc>=1.2.0 in /usr/local/lib/python3.10/dist-packages (from chromadb) (1.24.0)\n",
            "Requirement already satisfied: opentelemetry-instrumentation-fastapi>=0.41b0 in /usr/local/lib/python3.10/dist-packages (from chromadb) (0.45b0)\n",
            "Requirement already satisfied: opentelemetry-sdk>=1.2.0 in /usr/local/lib/python3.10/dist-packages (from chromadb) (1.24.0)\n",
            "Requirement already satisfied: tokenizers>=0.13.2 in /usr/local/lib/python3.10/dist-packages (from chromadb) (0.19.1)\n",
            "Requirement already satisfied: pypika>=0.48.9 in /usr/local/lib/python3.10/dist-packages (from chromadb) (0.48.9)\n",
            "Requirement already satisfied: tqdm>=4.65.0 in /usr/local/lib/python3.10/dist-packages (from chromadb) (4.66.4)\n",
            "Requirement already satisfied: overrides>=7.3.1 in /usr/local/lib/python3.10/dist-packages (from chromadb) (7.7.0)\n",
            "Requirement already satisfied: importlib-resources in /usr/local/lib/python3.10/dist-packages (from chromadb) (6.4.0)\n",
            "Requirement already satisfied: grpcio>=1.58.0 in /usr/local/lib/python3.10/dist-packages (from chromadb) (1.64.0)\n",
            "Requirement already satisfied: bcrypt>=4.0.1 in /usr/local/lib/python3.10/dist-packages (from chromadb) (4.1.3)\n",
            "Requirement already satisfied: typer>=0.9.0 in /usr/local/lib/python3.10/dist-packages (from chromadb) (0.12.3)\n",
            "Requirement already satisfied: kubernetes>=28.1.0 in /usr/local/lib/python3.10/dist-packages (from chromadb) (29.0.0)\n",
            "Requirement already satisfied: mmh3>=4.0.1 in /usr/local/lib/python3.10/dist-packages (from chromadb) (4.1.0)\n",
            "Requirement already satisfied: orjson>=3.9.12 in /usr/local/lib/python3.10/dist-packages (from chromadb) (3.10.3)\n",
            "Requirement already satisfied: google-ai-generativelanguage==0.6.4 in /usr/local/lib/python3.10/dist-packages (from google-generativeai) (0.6.4)\n",
            "Requirement already satisfied: google-api-core in /usr/local/lib/python3.10/dist-packages (from google-generativeai) (2.11.1)\n",
            "Requirement already satisfied: google-api-python-client in /usr/local/lib/python3.10/dist-packages (from google-generativeai) (2.84.0)\n",
            "Requirement already satisfied: google-auth>=2.15.0 in /usr/local/lib/python3.10/dist-packages (from google-generativeai) (2.27.0)\n",
            "Requirement already satisfied: protobuf in /usr/local/lib/python3.10/dist-packages (from google-generativeai) (3.20.3)\n",
            "Requirement already satisfied: proto-plus<2.0.0dev,>=1.22.3 in /usr/local/lib/python3.10/dist-packages (from google-ai-generativelanguage==0.6.4->google-generativeai) (1.23.0)\n",
            "Requirement already satisfied: transformers<5.0.0,>=4.34.0 in /usr/local/lib/python3.10/dist-packages (from sentence_transformers) (4.41.0)\n",
            "Requirement already satisfied: torch>=1.11.0 in /usr/local/lib/python3.10/dist-packages (from sentence_transformers) (2.3.0+cu121)\n",
            "Requirement already satisfied: scikit-learn in /usr/local/lib/python3.10/dist-packages (from sentence_transformers) (1.2.2)\n",
            "Requirement already satisfied: scipy in /usr/local/lib/python3.10/dist-packages (from sentence_transformers) (1.11.4)\n",
            "Requirement already satisfied: huggingface-hub>=0.15.1 in /usr/local/lib/python3.10/dist-packages (from sentence_transformers) (0.23.1)\n",
            "Requirement already satisfied: Pillow in /usr/local/lib/python3.10/dist-packages (from sentence_transformers) (9.4.0)\n",
            "Requirement already satisfied: aiosignal>=1.1.2 in /usr/local/lib/python3.10/dist-packages (from aiohttp<4.0.0,>=3.8.3->langchain) (1.3.1)\n",
            "Requirement already satisfied: attrs>=17.3.0 in /usr/local/lib/python3.10/dist-packages (from aiohttp<4.0.0,>=3.8.3->langchain) (23.2.0)\n",
            "Requirement already satisfied: frozenlist>=1.1.1 in /usr/local/lib/python3.10/dist-packages (from aiohttp<4.0.0,>=3.8.3->langchain) (1.4.1)\n",
            "Requirement already satisfied: multidict<7.0,>=4.5 in /usr/local/lib/python3.10/dist-packages (from aiohttp<4.0.0,>=3.8.3->langchain) (6.0.5)\n",
            "Requirement already satisfied: yarl<2.0,>=1.0 in /usr/local/lib/python3.10/dist-packages (from aiohttp<4.0.0,>=3.8.3->langchain) (1.9.4)\n",
            "Requirement already satisfied: packaging>=19.1 in /usr/local/lib/python3.10/dist-packages (from build>=1.0.3->chromadb) (23.2)\n",
            "Requirement already satisfied: pyproject_hooks in /usr/local/lib/python3.10/dist-packages (from build>=1.0.3->chromadb) (1.1.0)\n",
            "Requirement already satisfied: tomli>=1.1.0 in /usr/local/lib/python3.10/dist-packages (from build>=1.0.3->chromadb) (2.0.1)\n",
            "Requirement already satisfied: starlette<0.38.0,>=0.37.2 in /usr/local/lib/python3.10/dist-packages (from fastapi>=0.95.2->chromadb) (0.37.2)\n",
            "Requirement already satisfied: fastapi-cli>=0.0.2 in /usr/local/lib/python3.10/dist-packages (from fastapi>=0.95.2->chromadb) (0.0.4)\n",
            "Requirement already satisfied: httpx>=0.23.0 in /usr/local/lib/python3.10/dist-packages (from fastapi>=0.95.2->chromadb) (0.27.0)\n",
            "Requirement already satisfied: jinja2>=2.11.2 in /usr/local/lib/python3.10/dist-packages (from fastapi>=0.95.2->chromadb) (3.1.4)\n",
            "Requirement already satisfied: python-multipart>=0.0.7 in /usr/local/lib/python3.10/dist-packages (from fastapi>=0.95.2->chromadb) (0.0.9)\n",
            "Requirement already satisfied: ujson!=4.0.2,!=4.1.0,!=4.2.0,!=4.3.0,!=5.0.0,!=5.1.0,>=4.0.1 in /usr/local/lib/python3.10/dist-packages (from fastapi>=0.95.2->chromadb) (5.10.0)\n",
            "Requirement already satisfied: email_validator>=2.0.0 in /usr/local/lib/python3.10/dist-packages (from fastapi>=0.95.2->chromadb) (2.1.1)\n",
            "Requirement already satisfied: cachetools<6.0,>=2.0.0 in /usr/local/lib/python3.10/dist-packages (from google-auth>=2.15.0->google-generativeai) (5.3.3)\n",
            "Requirement already satisfied: pyasn1-modules>=0.2.1 in /usr/local/lib/python3.10/dist-packages (from google-auth>=2.15.0->google-generativeai) (0.4.0)\n",
            "Requirement already satisfied: rsa<5,>=3.1.4 in /usr/local/lib/python3.10/dist-packages (from google-auth>=2.15.0->google-generativeai) (4.9)\n",
            "Requirement already satisfied: filelock in /usr/local/lib/python3.10/dist-packages (from huggingface-hub>=0.15.1->sentence_transformers) (3.14.0)\n",
            "Requirement already satisfied: fsspec>=2023.5.0 in /usr/local/lib/python3.10/dist-packages (from huggingface-hub>=0.15.1->sentence_transformers) (2023.6.0)\n",
            "Requirement already satisfied: certifi>=14.05.14 in /usr/local/lib/python3.10/dist-packages (from kubernetes>=28.1.0->chromadb) (2024.2.2)\n",
            "Requirement already satisfied: six>=1.9.0 in /usr/local/lib/python3.10/dist-packages (from kubernetes>=28.1.0->chromadb) (1.16.0)\n",
            "Requirement already satisfied: python-dateutil>=2.5.3 in /usr/local/lib/python3.10/dist-packages (from kubernetes>=28.1.0->chromadb) (2.8.2)\n",
            "Requirement already satisfied: websocket-client!=0.40.0,!=0.41.*,!=0.42.*,>=0.32.0 in /usr/local/lib/python3.10/dist-packages (from kubernetes>=28.1.0->chromadb) (1.8.0)\n",
            "Requirement already satisfied: requests-oauthlib in /usr/local/lib/python3.10/dist-packages (from kubernetes>=28.1.0->chromadb) (1.3.1)\n",
            "Requirement already satisfied: oauthlib>=3.2.2 in /usr/local/lib/python3.10/dist-packages (from kubernetes>=28.1.0->chromadb) (3.2.2)\n",
            "Requirement already satisfied: urllib3>=1.24.2 in /usr/local/lib/python3.10/dist-packages (from kubernetes>=28.1.0->chromadb) (2.0.7)\n",
            "Requirement already satisfied: jsonpatch<2.0,>=1.33 in /usr/local/lib/python3.10/dist-packages (from langchain-core<0.3.0,>=0.2.0->langchain) (1.33)\n",
            "Requirement already satisfied: coloredlogs in /usr/local/lib/python3.10/dist-packages (from onnxruntime>=1.14.1->chromadb) (15.0.1)\n",
            "Requirement already satisfied: flatbuffers in /usr/local/lib/python3.10/dist-packages (from onnxruntime>=1.14.1->chromadb) (24.3.25)\n",
            "Requirement already satisfied: sympy in /usr/local/lib/python3.10/dist-packages (from onnxruntime>=1.14.1->chromadb) (1.12)\n",
            "Requirement already satisfied: deprecated>=1.2.6 in /usr/local/lib/python3.10/dist-packages (from opentelemetry-api>=1.2.0->chromadb) (1.2.14)\n",
            "Requirement already satisfied: importlib-metadata<=7.0,>=6.0 in /usr/local/lib/python3.10/dist-packages (from opentelemetry-api>=1.2.0->chromadb) (7.0.0)\n",
            "Requirement already satisfied: googleapis-common-protos~=1.52 in /usr/local/lib/python3.10/dist-packages (from opentelemetry-exporter-otlp-proto-grpc>=1.2.0->chromadb) (1.63.0)\n",
            "Requirement already satisfied: opentelemetry-exporter-otlp-proto-common==1.24.0 in /usr/local/lib/python3.10/dist-packages (from opentelemetry-exporter-otlp-proto-grpc>=1.2.0->chromadb) (1.24.0)\n",
            "Requirement already satisfied: opentelemetry-proto==1.24.0 in /usr/local/lib/python3.10/dist-packages (from opentelemetry-exporter-otlp-proto-grpc>=1.2.0->chromadb) (1.24.0)\n",
            "Requirement already satisfied: opentelemetry-instrumentation-asgi==0.45b0 in /usr/local/lib/python3.10/dist-packages (from opentelemetry-instrumentation-fastapi>=0.41b0->chromadb) (0.45b0)\n",
            "Requirement already satisfied: opentelemetry-instrumentation==0.45b0 in /usr/local/lib/python3.10/dist-packages (from opentelemetry-instrumentation-fastapi>=0.41b0->chromadb) (0.45b0)\n",
            "Requirement already satisfied: opentelemetry-semantic-conventions==0.45b0 in /usr/local/lib/python3.10/dist-packages (from opentelemetry-instrumentation-fastapi>=0.41b0->chromadb) (0.45b0)\n",
            "Requirement already satisfied: opentelemetry-util-http==0.45b0 in /usr/local/lib/python3.10/dist-packages (from opentelemetry-instrumentation-fastapi>=0.41b0->chromadb) (0.45b0)\n",
            "Requirement already satisfied: setuptools>=16.0 in /usr/local/lib/python3.10/dist-packages (from opentelemetry-instrumentation==0.45b0->opentelemetry-instrumentation-fastapi>=0.41b0->chromadb) (67.7.2)\n",
            "Requirement already satisfied: wrapt<2.0.0,>=1.0.0 in /usr/local/lib/python3.10/dist-packages (from opentelemetry-instrumentation==0.45b0->opentelemetry-instrumentation-fastapi>=0.41b0->chromadb) (1.14.1)\n",
            "Requirement already satisfied: asgiref~=3.0 in /usr/local/lib/python3.10/dist-packages (from opentelemetry-instrumentation-asgi==0.45b0->opentelemetry-instrumentation-fastapi>=0.41b0->chromadb) (3.8.1)\n",
            "Requirement already satisfied: monotonic>=1.5 in /usr/local/lib/python3.10/dist-packages (from posthog>=2.4.0->chromadb) (1.6)\n",
            "Requirement already satisfied: backoff>=1.10.0 in /usr/local/lib/python3.10/dist-packages (from posthog>=2.4.0->chromadb) (2.2.1)\n",
            "Requirement already satisfied: annotated-types>=0.4.0 in /usr/local/lib/python3.10/dist-packages (from pydantic<3,>=1->langchain) (0.7.0)\n",
            "Requirement already satisfied: pydantic-core==2.18.2 in /usr/local/lib/python3.10/dist-packages (from pydantic<3,>=1->langchain) (2.18.2)\n",
            "Requirement already satisfied: charset-normalizer<4,>=2 in /usr/local/lib/python3.10/dist-packages (from requests<3,>=2->langchain) (3.3.2)\n",
            "Requirement already satisfied: idna<4,>=2.5 in /usr/local/lib/python3.10/dist-packages (from requests<3,>=2->langchain) (3.7)\n",
            "Requirement already satisfied: greenlet!=0.4.17 in /usr/local/lib/python3.10/dist-packages (from SQLAlchemy<3,>=1.4->langchain) (3.0.3)\n",
            "Requirement already satisfied: networkx in /usr/local/lib/python3.10/dist-packages (from torch>=1.11.0->sentence_transformers) (3.3)\n",
            "Requirement already satisfied: nvidia-cuda-nvrtc-cu12==12.1.105 in /usr/local/lib/python3.10/dist-packages (from torch>=1.11.0->sentence_transformers) (12.1.105)\n",
            "Requirement already satisfied: nvidia-cuda-runtime-cu12==12.1.105 in /usr/local/lib/python3.10/dist-packages (from torch>=1.11.0->sentence_transformers) (12.1.105)\n",
            "Requirement already satisfied: nvidia-cuda-cupti-cu12==12.1.105 in /usr/local/lib/python3.10/dist-packages (from torch>=1.11.0->sentence_transformers) (12.1.105)\n",
            "Requirement already satisfied: nvidia-cudnn-cu12==8.9.2.26 in /usr/local/lib/python3.10/dist-packages (from torch>=1.11.0->sentence_transformers) (8.9.2.26)\n",
            "Requirement already satisfied: nvidia-cublas-cu12==12.1.3.1 in /usr/local/lib/python3.10/dist-packages (from torch>=1.11.0->sentence_transformers) (12.1.3.1)\n",
            "Requirement already satisfied: nvidia-cufft-cu12==11.0.2.54 in /usr/local/lib/python3.10/dist-packages (from torch>=1.11.0->sentence_transformers) (11.0.2.54)\n",
            "Requirement already satisfied: nvidia-curand-cu12==10.3.2.106 in /usr/local/lib/python3.10/dist-packages (from torch>=1.11.0->sentence_transformers) (10.3.2.106)\n",
            "Requirement already satisfied: nvidia-cusolver-cu12==11.4.5.107 in /usr/local/lib/python3.10/dist-packages (from torch>=1.11.0->sentence_transformers) (11.4.5.107)\n",
            "Requirement already satisfied: nvidia-cusparse-cu12==12.1.0.106 in /usr/local/lib/python3.10/dist-packages (from torch>=1.11.0->sentence_transformers) (12.1.0.106)\n",
            "Requirement already satisfied: nvidia-nccl-cu12==2.20.5 in /usr/local/lib/python3.10/dist-packages (from torch>=1.11.0->sentence_transformers) (2.20.5)\n",
            "Requirement already satisfied: nvidia-nvtx-cu12==12.1.105 in /usr/local/lib/python3.10/dist-packages (from torch>=1.11.0->sentence_transformers) (12.1.105)\n",
            "Requirement already satisfied: triton==2.3.0 in /usr/local/lib/python3.10/dist-packages (from torch>=1.11.0->sentence_transformers) (2.3.0)\n",
            "Requirement already satisfied: nvidia-nvjitlink-cu12 in /usr/local/lib/python3.10/dist-packages (from nvidia-cusolver-cu12==11.4.5.107->torch>=1.11.0->sentence_transformers) (12.5.40)\n",
            "Requirement already satisfied: regex!=2019.12.17 in /usr/local/lib/python3.10/dist-packages (from transformers<5.0.0,>=4.34.0->sentence_transformers) (2023.12.25)\n",
            "Requirement already satisfied: safetensors>=0.4.1 in /usr/local/lib/python3.10/dist-packages (from transformers<5.0.0,>=4.34.0->sentence_transformers) (0.4.3)\n",
            "Requirement already satisfied: click>=8.0.0 in /usr/local/lib/python3.10/dist-packages (from typer>=0.9.0->chromadb) (8.1.7)\n",
            "Requirement already satisfied: shellingham>=1.3.0 in /usr/local/lib/python3.10/dist-packages (from typer>=0.9.0->chromadb) (1.5.4)\n",
            "Requirement already satisfied: rich>=10.11.0 in /usr/local/lib/python3.10/dist-packages (from typer>=0.9.0->chromadb) (13.7.1)\n",
            "Requirement already satisfied: h11>=0.8 in /usr/local/lib/python3.10/dist-packages (from uvicorn[standard]>=0.18.3->chromadb) (0.14.0)\n",
            "Requirement already satisfied: httptools>=0.5.0 in /usr/local/lib/python3.10/dist-packages (from uvicorn[standard]>=0.18.3->chromadb) (0.6.1)\n",
            "Requirement already satisfied: python-dotenv>=0.13 in /usr/local/lib/python3.10/dist-packages (from uvicorn[standard]>=0.18.3->chromadb) (1.0.1)\n",
            "Requirement already satisfied: uvloop!=0.15.0,!=0.15.1,>=0.14.0 in /usr/local/lib/python3.10/dist-packages (from uvicorn[standard]>=0.18.3->chromadb) (0.19.0)\n",
            "Requirement already satisfied: watchfiles>=0.13 in /usr/local/lib/python3.10/dist-packages (from uvicorn[standard]>=0.18.3->chromadb) (0.21.0)\n",
            "Requirement already satisfied: websockets>=10.4 in /usr/local/lib/python3.10/dist-packages (from uvicorn[standard]>=0.18.3->chromadb) (12.0)\n",
            "Requirement already satisfied: httplib2<1dev,>=0.15.0 in /usr/local/lib/python3.10/dist-packages (from google-api-python-client->google-generativeai) (0.22.0)\n",
            "Requirement already satisfied: google-auth-httplib2>=0.1.0 in /usr/local/lib/python3.10/dist-packages (from google-api-python-client->google-generativeai) (0.1.1)\n",
            "Requirement already satisfied: uritemplate<5,>=3.0.1 in /usr/local/lib/python3.10/dist-packages (from google-api-python-client->google-generativeai) (4.1.1)\n",
            "Requirement already satisfied: joblib>=1.1.1 in /usr/local/lib/python3.10/dist-packages (from scikit-learn->sentence_transformers) (1.4.2)\n",
            "Requirement already satisfied: threadpoolctl>=2.0.0 in /usr/local/lib/python3.10/dist-packages (from scikit-learn->sentence_transformers) (3.5.0)\n",
            "Requirement already satisfied: dnspython>=2.0.0 in /usr/local/lib/python3.10/dist-packages (from email_validator>=2.0.0->fastapi>=0.95.2->chromadb) (2.6.1)\n",
            "Requirement already satisfied: grpcio-status<2.0.dev0,>=1.33.2 in /usr/local/lib/python3.10/dist-packages (from google-api-core->google-generativeai) (1.48.2)\n",
            "Requirement already satisfied: pyparsing!=3.0.0,!=3.0.1,!=3.0.2,!=3.0.3,<4,>=2.4.2 in /usr/local/lib/python3.10/dist-packages (from httplib2<1dev,>=0.15.0->google-api-python-client->google-generativeai) (3.1.2)\n",
            "Requirement already satisfied: anyio in /usr/local/lib/python3.10/dist-packages (from httpx>=0.23.0->fastapi>=0.95.2->chromadb) (3.7.1)\n",
            "Requirement already satisfied: httpcore==1.* in /usr/local/lib/python3.10/dist-packages (from httpx>=0.23.0->fastapi>=0.95.2->chromadb) (1.0.5)\n",
            "Requirement already satisfied: sniffio in /usr/local/lib/python3.10/dist-packages (from httpx>=0.23.0->fastapi>=0.95.2->chromadb) (1.3.1)\n",
            "Requirement already satisfied: zipp>=0.5 in /usr/local/lib/python3.10/dist-packages (from importlib-metadata<=7.0,>=6.0->opentelemetry-api>=1.2.0->chromadb) (3.18.2)\n",
            "Requirement already satisfied: MarkupSafe>=2.0 in /usr/local/lib/python3.10/dist-packages (from jinja2>=2.11.2->fastapi>=0.95.2->chromadb) (2.1.5)\n",
            "Requirement already satisfied: jsonpointer>=1.9 in /usr/local/lib/python3.10/dist-packages (from jsonpatch<2.0,>=1.33->langchain-core<0.3.0,>=0.2.0->langchain) (2.4)\n",
            "Requirement already satisfied: pyasn1<0.7.0,>=0.4.6 in /usr/local/lib/python3.10/dist-packages (from pyasn1-modules>=0.2.1->google-auth>=2.15.0->google-generativeai) (0.6.0)\n",
            "Requirement already satisfied: markdown-it-py>=2.2.0 in /usr/local/lib/python3.10/dist-packages (from rich>=10.11.0->typer>=0.9.0->chromadb) (3.0.0)\n",
            "Requirement already satisfied: pygments<3.0.0,>=2.13.0 in /usr/local/lib/python3.10/dist-packages (from rich>=10.11.0->typer>=0.9.0->chromadb) (2.16.1)\n",
            "Requirement already satisfied: humanfriendly>=9.1 in /usr/local/lib/python3.10/dist-packages (from coloredlogs->onnxruntime>=1.14.1->chromadb) (10.0)\n",
            "Requirement already satisfied: mpmath>=0.19 in /usr/local/lib/python3.10/dist-packages (from sympy->onnxruntime>=1.14.1->chromadb) (1.3.0)\n",
            "Requirement already satisfied: exceptiongroup in /usr/local/lib/python3.10/dist-packages (from anyio->httpx>=0.23.0->fastapi>=0.95.2->chromadb) (1.2.1)\n",
            "Requirement already satisfied: mdurl~=0.1 in /usr/local/lib/python3.10/dist-packages (from markdown-it-py>=2.2.0->rich>=10.11.0->typer>=0.9.0->chromadb) (0.1.2)\n",
            "Installing collected packages: pypdf\n",
            "Successfully installed pypdf-4.2.0\n"
          ]
        }
      ]
    },
    {
      "cell_type": "markdown",
      "source": [
        "#### Import necessary libraries"
      ],
      "metadata": {
        "id": "L5h3_h4C8Q70"
      },
      "id": "L5h3_h4C8Q70"
    },
    {
      "cell_type": "code",
      "execution_count": 1,
      "id": "5a5536f0-651c-40e7-aa15-27ee0cda80b7",
      "metadata": {
        "id": "5a5536f0-651c-40e7-aa15-27ee0cda80b7"
      },
      "outputs": [],
      "source": [
        "from langchain.text_splitter import RecursiveCharacterTextSplitter, SentenceTransformersTokenTextSplitter\n",
        "import chromadb\n",
        "from chromadb.utils.embedding_functions import SentenceTransformerEmbeddingFunction\n",
        "from pypdf import PdfReader\n",
        "import google.generativeai as genai\n",
        "from pprint import pprint\n",
        "from google.colab import userdata"
      ]
    },
    {
      "cell_type": "code",
      "execution_count": 2,
      "id": "3748b16d-d4a7-49c3-a48a-57dcfc42acd6",
      "metadata": {
        "colab": {
          "base_uri": "https://localhost:8080/"
        },
        "id": "3748b16d-d4a7-49c3-a48a-57dcfc42acd6",
        "outputId": "47485a21-8076-49f9-cdbd-28ba7896f8bd"
      },
      "outputs": [
        {
          "output_type": "stream",
          "name": "stdout",
          "text": [
            "('UNITED STATES\\n'\n",
            " 'SECURITIES AND EXCHANGE COMMISSION\\n'\n",
            " 'Washington, D.C. 20549\\n'\n",
            " '___________________________________________\\n'\n",
            " 'FORM 10-K\\n'\n",
            " '___________________________________________\\n'\n",
            " '(Mark One)\\n'\n",
            " '☒ ANNUAL REPORT PURSUANT T O SECTION 13 OR 15(d) OF THE SECURITIES EXCHANGE '\n",
            " 'ACT OF 1934\\n'\n",
            " 'For the fiscal year ended December 31, 2022\\n'\n",
            " 'OR\\n'\n",
            " '☐ TRANSITION REPORT PURSUANT T O SECTION 13 OR 15(d) OF THE SECURITIES '\n",
            " 'EXCHANGE ACT OF 1934\\n'\n",
            " 'For the transition period from              to             .\\n'\n",
            " 'Commission file number: 001-37580\\n'\n",
            " '___________________________________________\\n'\n",
            " 'Alphabet Inc.\\n'\n",
            " '(Exact name of registrant as specified in its charter)\\n'\n",
            " '___________________________________________\\n'\n",
            " 'Delaware 61-1767919\\n'\n",
            " '(State or other jurisdiction of incorporation or organization) (I.R.S. '\n",
            " 'Employer Identification No.)\\n'\n",
            " '1600 Amphitheatre Parkway\\n'\n",
            " 'Mountain V iew, CA 94043\\n'\n",
            " '(Address of principal executive offices, including zip code)\\n'\n",
            " '(650) 253-0000\\n'\n",
            " \"(Registrant's telephone number, including area code)\\n\"\n",
            " 'Securities registered pursuant to Section 12(b) of the Act:\\n'\n",
            " 'Title of each class Trading Symbol(s) Name of each exchange on which '\n",
            " 'registered\\n'\n",
            " 'Class A Common Stock, $0.001 par value GOOGL Nasdaq Stock Market LLC\\n'\n",
            " '(Nasdaq Global Select Market)\\n'\n",
            " 'Class C Capital Stock, $0.001 par value GOOG Nasdaq Stock Market LLC\\n'\n",
            " '(Nasdaq Global Select Market)\\n'\n",
            " 'Securities registered pursuant to Section 12(g) of the Act:\\n'\n",
            " 'Title of each class\\n'\n",
            " 'None\\n'\n",
            " '___________________________________________\\n'\n",
            " 'Indicate by check mark if the registrant is a well-known seasoned issuer , '\n",
            " 'as defined  in Rule 405 of the Securities\\n'\n",
            " 'Act.    Yes  ☒    No  ☐\\n'\n",
            " 'Indicate by check mark if the registrant is not required to file reports '\n",
            " 'pursuant to Section 13 or Section 15(d) of the\\n'\n",
            " 'Act.    Yes  ☐   No  ☒\\n'\n",
            " 'Indicate by check mark whether the registrant (1) has filed all reports '\n",
            " 'required to be filed by Section 13 or 15(d) of the Securities\\n'\n",
            " 'Exchange Act of 1934 during the preceding 12 months (or for such shorter '\n",
            " 'period that the registrant was required to file such\\n'\n",
            " 'reports), and (2) has been subject to such filing requirements for the past '\n",
            " '90 days.    Yes  ☒    No  ☐\\n'\n",
            " 'Indicate by check mark whether the registrant has submitted electronically '\n",
            " 'every Interactive Data File required to be submitted\\n'\n",
            " 'pursuant to Rule 405 of Regulation S-T (§232.405 of this chapter) during the '\n",
            " 'preceding 12 months (or for such shorter period that\\n'\n",
            " 'the registrant was required to submit such files).    Yes  ☒    No  ☐\\n'\n",
            " 'Indicate by check mark  whether the registrant is a large accelerated filer, '\n",
            " 'an accelerated filer, a non-accelerated filer, a smaller\\n'\n",
            " 'reporting company , or an emerging growth company . See the definitions of '\n",
            " '“large accelerated filer,” “accelerated filer,” “smaller\\n'\n",
            " 'reporting company ,” and \"emerging growth company\" in Rule 12b-2 of the '\n",
            " 'Exchange Act.')\n"
          ]
        }
      ],
      "source": [
        "# Create a PdfReader object to read the PDF file\n",
        "reader = PdfReader(\"/content/Alphabet annual report.pdf\")\n",
        "\n",
        "# Extract text from each page in the PDF and strip any leading/trailing whitespace\n",
        "pdf_texts = [p.extract_text().strip() for p in reader.pages]\n",
        "\n",
        "# Filter out any empty strings from the extracted texts\n",
        "pdf_texts = [text for text in pdf_texts if text]\n",
        "\n",
        "# Pretty-print the text from the first page of the PDF\n",
        "pprint(pdf_texts[0])"
      ]
    },
    {
      "cell_type": "code",
      "execution_count": 3,
      "id": "888a86f8-2fe2-4682-bdaf-c15129ed1a32",
      "metadata": {
        "colab": {
          "base_uri": "https://localhost:8080/"
        },
        "id": "888a86f8-2fe2-4682-bdaf-c15129ed1a32",
        "outputId": "4d0df2fb-f0b8-4754-d930-41414a3ee921"
      },
      "outputs": [
        {
          "output_type": "stream",
          "name": "stdout",
          "text": [
            "('•our expectation that our monetization trends will fluctuate, which could '\n",
            " 'affect our revenues and margins;\\n'\n",
            " '•fluctuations in our revenues, as well as the change in paid clicks and '\n",
            " 'cost-per-click and the change in\\n'\n",
            " 'impressions and cost-per-impression, and various factors contributing to '\n",
            " 'such fluctuations;\\n'\n",
            " '•our expectation that we will continue to periodically review, refine, and '\n",
            " 'update our methodologies for\\n'\n",
            " 'monitoring, gathering, and counting the number of paid clicks and '\n",
            " 'impressions;\\n'\n",
            " '•our expectation that our results will be affected by our performance in '\n",
            " 'international markets as users in\\n'\n",
            " 'developing economies increasingly come online;\\n'\n",
            " '•our expectation that our foreign exchange risk management program will not '\n",
            " 'fully offset our net exposure to\\n'\n",
            " 'fluctuations in foreign currency exchange rates;\\n'\n",
            " '•the expected variability of gains and losses related to hedging activities '\n",
            " 'under our foreign exchange risk\\n'\n",
            " 'management program;')\n",
            "\n",
            "Total chunks: 494\n"
          ]
        }
      ],
      "source": [
        "# Create a RecursiveCharacterTextSplitter object with specified separators, chunk size, and chunk overlap\n",
        "character_splitter = RecursiveCharacterTextSplitter(\n",
        "    separators=[\"\\n\\n\", \"\\n\", \". \", \" \", \"\"],  # List of separators for splitting the text\n",
        "    chunk_size=1000,  # Maximum size of each text chunk\n",
        "    chunk_overlap=0  # Number of characters to overlap between chunks\n",
        ")\n",
        "\n",
        "# Join the extracted PDF texts with '\\n\\n' and split the combined text into chunks\n",
        "character_split_texts = character_splitter.split_text('\\n\\n'.join(pdf_texts))\n",
        "\n",
        "# Pretty-print the text of the 11th chunk (index 10) of the split text\n",
        "pprint(character_split_texts[10])\n",
        "\n",
        "# Print the total number of chunks created\n",
        "print(f\"\\nTotal chunks: {len(character_split_texts)}\")"
      ]
    },
    {
      "cell_type": "code",
      "execution_count": 4,
      "id": "5665c695-22ea-4264-b1ac-5ba720b6d78b",
      "metadata": {
        "colab": {
          "base_uri": "https://localhost:8080/"
        },
        "id": "5665c695-22ea-4264-b1ac-5ba720b6d78b",
        "outputId": "554ee95c-b816-4e6a-c756-b283f25f2b39"
      },
      "outputs": [
        {
          "output_type": "stream",
          "name": "stderr",
          "text": [
            "/usr/local/lib/python3.10/dist-packages/huggingface_hub/utils/_token.py:89: UserWarning: \n",
            "The secret `HF_TOKEN` does not exist in your Colab secrets.\n",
            "To authenticate with the Hugging Face Hub, create a token in your settings tab (https://huggingface.co/settings/tokens), set it as secret in your Google Colab and restart your session.\n",
            "You will be able to reuse this secret in all of your notebooks.\n",
            "Please note that authentication is recommended but still optional to access public models or datasets.\n",
            "  warnings.warn(\n",
            "/usr/local/lib/python3.10/dist-packages/huggingface_hub/file_download.py:1132: FutureWarning: `resume_download` is deprecated and will be removed in version 1.0.0. Downloads always resume when possible. If you want to force a new download, use `force_download=True`.\n",
            "  warnings.warn(\n"
          ]
        },
        {
          "output_type": "stream",
          "name": "stdout",
          "text": [
            "('table of contents alphabet inc. note about forward - looking statements this '\n",
            " 'annual report on form 10 - k contains forward - looking statements within '\n",
            " 'the meaning of the private securities litigation reform act of 1995. these '\n",
            " 'include, among other things, statements regarding : • the growth of our '\n",
            " 'business and revenues and our expectations about the factors that influence '\n",
            " 'our success and trends in our business ; • fluctuations in our revenues and '\n",
            " 'margins and various factors contributing to such fluctuations ; • our '\n",
            " 'expectation that the continuing shift from an offline to online world will '\n",
            " 'continue to benefit our business ; • our expectation that the portion of our '\n",
            " 'revenues that we derive from non - advertising revenues will continue to '\n",
            " 'increase and may affect our margins ; • our expectation that our traffic '\n",
            " 'acquisition costs ( tac ) and the associated tac rate will fluctuate, which '\n",
            " 'could affect our overall margins ;')\n",
            "\n",
            "Total chunks: 521\n"
          ]
        }
      ],
      "source": [
        "# Create a SentenceTransformersTokenTextSplitter object with specified chunk overlap and tokens per chunk\n",
        "token_splitter = SentenceTransformersTokenTextSplitter(chunk_overlap=0, tokens_per_chunk=256)\n",
        "\n",
        "# Initialize an empty list to hold the token-split texts\n",
        "token_split_texts = []\n",
        "\n",
        "# Loop through each chunk in the character-split texts\n",
        "for text in character_split_texts:\n",
        "    # Split the text into smaller chunks using the token splitter and add them to the token_split_texts list\n",
        "    token_split_texts += token_splitter.split_text(text)\n",
        "\n",
        "# Print the wrapped text of the 11th chunk (index 10) of the token-split text\n",
        "pprint(token_split_texts[10])\n",
        "\n",
        "# Print the total number of token-split chunks created\n",
        "print(f\"\\nTotal chunks: {len(token_split_texts)}\")"
      ]
    },
    {
      "cell_type": "code",
      "execution_count": 5,
      "id": "c2a13d14-4484-46f0-8e67-277337f9d138",
      "metadata": {
        "colab": {
          "base_uri": "https://localhost:8080/"
        },
        "id": "c2a13d14-4484-46f0-8e67-277337f9d138",
        "outputId": "fb640cfc-436f-4394-9c60-82fc8328f6ec"
      },
      "outputs": [
        {
          "output_type": "stream",
          "name": "stderr",
          "text": [
            "/usr/local/lib/python3.10/dist-packages/huggingface_hub/file_download.py:1132: FutureWarning: `resume_download` is deprecated and will be removed in version 1.0.0. Downloads always resume when possible. If you want to force a new download, use `force_download=True`.\n",
            "  warnings.warn(\n"
          ]
        },
        {
          "output_type": "stream",
          "name": "stdout",
          "text": [
            "[[-0.038972221314907074, -0.039320990443229675, 0.009861109778285027, -0.05084536597132683, 0.023311369121074677, 0.07700969278812408, 0.04277116805315018, 0.03615760803222656, 0.06379776448011398, 0.026388373225927353, 0.019688792526721954, 0.1407993733882904, -0.017853906378149986, -0.06877782195806503, -0.004027882125228643, -0.018674977123737335, 0.03352261707186699, 0.04201819747686386, -0.028582502156496048, 0.01630794070661068, -0.020787663757801056, 0.0520034059882164, 0.025474274531006813, 0.03172564506530762, -0.03456216678023338, -0.025852885097265244, -0.0893649160861969, 0.014263750053942204, -0.048373088240623474, -0.06445921212434769, -0.08078080415725708, 0.043986380100250244, 0.038726773113012314, 0.016588792204856873, 0.04580427333712578, -0.06902538239955902, -0.01974904164671898, -0.012786035425961018, 0.04005995765328407, 0.008965833112597466, 0.022647129371762276, -0.11218259483575821, -0.05282265320420265, 0.01696201041340828, 0.01976599544286728, 0.007287708111107349, -0.009405218996107578, 0.052086394280195236, -0.03516905754804611, 0.056008659303188324, -0.06144663691520691, 0.03062066249549389, -0.010286099277436733, 0.0031353046651929617, -0.03964691981673241, 0.010151850059628487, -0.026202622801065445, 0.029435470700263977, -0.011605815961956978, 0.028916558250784874, 0.014922751113772392, 0.006924813613295555, -0.0053027537651360035, 0.0663512796163559, 0.05854494869709015, 0.009157678112387657, 0.053182683885097504, 0.045509010553359985, -0.07858742773532867, -0.0006197908078320324, -0.005828040651977062, 0.023525256663560867, -0.06039522588253021, 0.03256867080926895, -0.06555639207363129, -0.010146557353436947, 0.06198175996541977, 0.09141629934310913, 0.02244766615331173, -0.07378239929676056, -0.03681900352239609, 0.006157232914119959, -0.03325442969799042, -0.05498552322387695, -0.059086717665195465, -0.0480496771633625, 0.07715248316526413, -0.024747909978032112, 0.047176286578178406, 0.03552430123090744, 0.07350035756826401, -0.08293066918849945, 0.1264689564704895, 0.02167673222720623, -0.04729773849248886, 0.018023287877440453, -0.06455501914024353, -0.08664833009243011, 0.07975784689188004, 0.046645451337099075, 0.03807913884520531, 0.10305613279342651, 0.02200399525463581, -0.07161952555179596, -0.12452728301286697, -0.060452237725257874, 0.054203927516937256, 0.01241303514689207, -0.017164573073387146, 0.04225453734397888, -0.021674014627933502, 0.029263127595186234, -0.09174961596727371, -0.1264059841632843, -0.033282823860645294, -0.03563925251364708, -0.06146781146526337, 0.030320286750793457, 0.15587295591831207, -0.07253515720367432, -0.03559957072138786, 0.01882314868271351, -0.10992240905761719, -0.00365689885802567, -0.059897005558013916, -0.057363707572221756, -0.015038876794278622, -8.459390912749859e-34, -0.05444621294736862, 0.00880528800189495, -0.018583837896585464, 0.0497559979557991, -0.026072174310684204, 0.05069371685385704, -0.004738745279610157, 0.0030329476576298475, -0.04415346309542656, 0.04839051514863968, -0.013713221997022629, 0.04109150916337967, 0.051711149513721466, -0.02677878551185131, -0.022362815216183662, -0.010244583711028099, -0.059259217232465744, 0.08572761714458466, 0.0757630243897438, -0.06862108409404755, 0.02524534985423088, -0.04726414382457733, 0.0354682058095932, 0.0369105190038681, -0.007943999022245407, -0.01252428162842989, -0.07433616369962692, -0.019178742542862892, -0.04432789608836174, 0.008434968069195747, 0.06220799684524536, -0.0007316307746805251, 0.02070828713476658, -0.04576130211353302, 0.054754484444856644, 0.10273276269435883, -0.01733223907649517, -0.02179906703531742, 0.08732053637504578, 0.04084711894392967, -0.10096604377031326, 0.005337287671864033, -0.047381263226270676, -0.030940283089876175, -0.026274915784597397, 0.04113279655575752, 0.01761348359286785, 0.009484803304076195, 0.004590260796248913, -0.03953391686081886, -0.028946155682206154, 0.014751294627785683, 0.005074168089777231, -0.03962760046124458, 0.022883404046297073, 0.0015468103811144829, -0.004629430826753378, -0.01807377114892006, -0.03151281177997589, 0.057465169578790665, 0.050270434468984604, 0.011805322021245956, 0.02533712610602379, 0.026437437161803246, -0.10772818326950073, 0.07411086559295654, -0.032317981123924255, -0.05241251364350319, 0.05314645543694496, -0.04778842255473137, 0.008010135032236576, 0.029428917914628983, 0.045953817665576935, 0.004512222949415445, 0.009621450677514076, -0.01756732352077961, -0.04041768237948418, 0.004377611447125673, 0.07102560251951218, -0.012008306570351124, 0.013596352189779282, -0.023582883179187775, 0.039120569825172424, 0.007644756231456995, 0.04692021384835243, 0.024713605642318726, 0.083256296813488, -0.02543659880757332, -0.014234333299100399, 0.05087501183152199, -0.011566552333533764, -0.005348589271306992, -0.05305112153291702, 0.08194302022457123, 0.03609970584511757, -1.6841493071933152e-33, -0.08368543535470963, 0.031102783977985382, -0.049492787569761276, 0.018112927675247192, -0.09089810401201248, 0.006747025065124035, 0.05427775904536247, 0.10540243983268738, 0.06764250248670578, 0.0516841746866703, -0.015308798290789127, -0.04623541980981827, -0.03684096783399582, -0.06414815038442612, -0.08330436795949936, -0.04621338099241257, 0.08862640708684921, -0.023331280797719955, -0.02698134072124958, -0.013055939227342606, 0.017466263845562935, 0.036150041967630386, -0.027460893616080284, 0.039091866463422775, -0.017097126692533493, 0.036476559937000275, 0.01210467517375946, 0.02421795390546322, -0.03200514242053032, 0.0029675504192709923, -0.03357292711734772, -0.045144595205783844, -0.07697358727455139, 0.09124219417572021, -0.02320113778114319, -0.06768731027841568, 0.07068262994289398, -0.03560325875878334, 0.00667032552883029, -0.024504654109477997, 0.0470200777053833, 0.03802135959267616, 0.03008137457072735, 0.00828236062079668, -0.04045436158776283, -0.01247562188655138, -0.01941414549946785, -0.028133394196629524, 0.027889667078852654, -0.0004214494547341019, 0.02444956824183464, 0.011553343385457993, 0.02246103063225746, 0.012324918992817402, -0.10368955880403519, 0.15121674537658691, -0.01797035150229931, 0.004720576107501984, -0.01978716067969799, 0.05329693481326103, 0.03786701709032059, 0.12096623331308365, -0.026963800191879272, 0.0007485721725970507, 0.06599199771881104, -0.11287650465965271, 0.009930571541190147, -0.07732518762350082, 0.056918658316135406, -0.06918234378099442, -0.005221062805503607, -0.09249651432037354, -0.0297250859439373, -0.09628291428089142, -0.044367916882038116, 0.03254313766956329, 0.05148525536060333, -0.009214796125888824, -0.07284725457429886, 0.06295675039291382, 0.05396275967359543, 0.05939481034874916, -0.012618671171367168, 0.005803160835057497, 0.00870721135288477, 0.003273499198257923, 0.025869695469737053, -0.012075405567884445, -0.013781469315290451, 0.04109301418066025, -0.06670275330543518, -0.08271181583404541, -0.016706204041838646, 0.04878035932779312, -0.053277164697647095, -6.255915963038206e-08, -0.0165390744805336, -0.03728547319769859, -0.008686712943017483, 0.06612462550401688, 0.05825890973210335, -0.010869959369301796, 0.05533703416585922, 0.011918873526155949, -0.08850012719631195, -0.030942901968955994, 0.09068413078784943, -0.004490264225751162, -0.11272124201059341, 0.03368239104747772, 0.008283770643174648, -0.013269088231027126, -0.06844160705804825, -0.02020970545709133, -0.053974103182554245, -0.03310777619481087, -0.030660085380077362, 0.07695719599723816, -0.016728974878787994, -0.03844181448221207, 0.05108179897069931, 0.06931624561548233, 0.005667394492775202, 0.08376126736402512, 0.015074429102241993, -0.030344603583216667, 0.02009318396449089, 0.013570201583206654, 0.03888798877596855, -0.06866050511598587, -0.05135452002286911, 0.026310129091143608, -0.013287298381328583, 0.032727621495723724, 0.03797848895192146, 0.0605030283331871, -0.07703079283237457, 9.202848741551861e-05, 0.05862143635749817, 0.08603791147470474, -0.011934292502701283, -0.049584511667490005, -0.182172954082489, 0.03640654310584068, 0.009006666019558907, -0.15975630283355713, 0.054918378591537476, -0.05095269903540611, -0.01794126257300377, 0.002100353827700019, 0.006255773827433586, -0.017200728878378868, 0.057133328169584274, 0.03648027777671814, -0.0614004023373127, 0.015321084298193455, 0.05305444821715355, -0.0628325417637825, -0.04135261848568916, 0.005168189760297537]]\n"
          ]
        }
      ],
      "source": [
        "# Create a SentenceTransformerEmbeddingFunction object\n",
        "embedding_function = SentenceTransformerEmbeddingFunction()\n",
        "\n",
        "# Generate embeddings for the 11th chunk (index 10) of the token-split text and print the result\n",
        "print(embedding_function([token_split_texts[10]]))"
      ]
    },
    {
      "cell_type": "code",
      "execution_count": 6,
      "id": "8ba6c8c5-9ce4-44d0-9223-6fdd77871f87",
      "metadata": {
        "colab": {
          "base_uri": "https://localhost:8080/"
        },
        "id": "8ba6c8c5-9ce4-44d0-9223-6fdd77871f87",
        "outputId": "8f4b59ff-3a8c-4cf8-d4a9-de58a30556d3"
      },
      "outputs": [
        {
          "output_type": "execute_result",
          "data": {
            "text/plain": [
              "521"
            ]
          },
          "metadata": {},
          "execution_count": 6
        }
      ],
      "source": [
        "# Create a ChromaDB client\n",
        "chroma_client = chromadb.Client()\n",
        "\n",
        "# Create a new collection in ChromaDB with the name \"Alphabet Annual Report\" and the specified embedding function\n",
        "chroma_collection = chroma_client.create_collection(\"alphabet_annual_report\", embedding_function=embedding_function)\n",
        "\n",
        "# Generate a list of string IDs corresponding to the number of token-split text chunks\n",
        "ids = [str(i) for i in range(len(token_split_texts))]\n",
        "\n",
        "# Add the token-split text chunks to the ChromaDB collection using the generated IDs\n",
        "chroma_collection.add(ids=ids, documents=token_split_texts)\n",
        "\n",
        "# Count and return the number of documents in the ChromaDB collection\n",
        "chroma_collection.count()"
      ]
    },
    {
      "cell_type": "code",
      "source": [
        "# Step 1: Retrieve the API key from user data\n",
        "GEMINI_API_KEY = userdata.get('API_KEY')  # Get API Key from Secrets\n",
        "\n",
        "# Step 2: Configure the GenAI client with the retrieved API key\n",
        "genai.configure(api_key=GEMINI_API_KEY)\n",
        "\n",
        "# Step 3: Define the generation configuration for the model\n",
        "generation_config = {\n",
        "    \"temperature\": 0.9,       # Controls the randomness of the output (higher values mean more random)\n",
        "    \"top_p\": 1,               # Controls nucleus sampling (1 means no filtering)\n",
        "    \"top_k\": 1,               # Controls the number of highest probability tokens to consider (1 means only the highest)\n",
        "    \"max_output_tokens\": 2048 # Maximum number of tokens in the output\n",
        "}\n",
        "\n",
        "# Step 4: Initialize the generative model with the specified name and configuration\n",
        "model = genai.GenerativeModel(\n",
        "    model_name=\"gemini-1.0-pro\",       # Name of the model\n",
        "    generation_config=generation_config  # Configuration for text generation\n",
        ")"
      ],
      "metadata": {
        "id": "miBZMJi_ApAr"
      },
      "id": "miBZMJi_ApAr",
      "execution_count": 7,
      "outputs": []
    },
    {
      "cell_type": "code",
      "execution_count": 15,
      "id": "3731aa9d-7dec-43e7-adcd-abec44abcd97",
      "metadata": {
        "id": "3731aa9d-7dec-43e7-adcd-abec44abcd97"
      },
      "outputs": [],
      "source": [
        "def rag(query, retrieved_documents):\n",
        "    # Combine the retrieved documents into a single string, separated by double newlines\n",
        "    information = \"\\n\\n\".join(retrieved_documents)\n",
        "\n",
        "    # Create the message for the generative model, providing context and the user's query\n",
        "    messages = [\n",
        "        \"You will be shown the user's question, and the relevant information from the annual report. Answer the user's question using only this information.\"\n",
        "        f\"Question: {query}. \\n Information: {information}\"\n",
        "    ]\n",
        "\n",
        "    # Generate a response using the configured generative model\n",
        "    response = model.generate_content(messages)\n",
        "\n",
        "    # Return the text part of the first candidate's response\n",
        "    return response.candidates[0].content.parts[0].text"
      ]
    },
    {
      "cell_type": "code",
      "source": [
        "# Step 1: Define the query string\n",
        "query = \"What are some cloud technologies?\"\n",
        "\n",
        "# Step 2: Query the ChromaDB collection with the specified query string, retrieving the top 3 results\n",
        "results = chroma_collection.query(query_texts=[query], n_results=3)\n",
        "\n",
        "# Step 3: Extract the list of retrieved documents from the query results\n",
        "retrieved_documents = results['documents'][0]\n",
        "\n",
        "# Step 4: Loop through each retrieved document, print the wrapped text, and add a newline for readability\n",
        "for document in retrieved_documents:\n",
        "    pprint(document)\n",
        "    print('\\n')\n"
      ],
      "metadata": {
        "colab": {
          "base_uri": "https://localhost:8080/"
        },
        "id": "K5xH5i-jAm7A",
        "outputId": "24d0ace7-82b5-403b-c6aa-c6675879d543"
      },
      "id": "K5xH5i-jAm7A",
      "execution_count": 18,
      "outputs": [
        {
          "output_type": "stream",
          "name": "stdout",
          "text": [
            "('subscriptions, such as : • google play generates revenues from sales of apps '\n",
            " 'and in - app purchases. • hardware generates revenues from sales of fitbit '\n",
            " 'wearable devices, google nest home products, and pixel devices. • youtube '\n",
            " 'non - advertising generates subscription revenues from services such as '\n",
            " 'youtube premium and youtube tv. google cloud google was a company built in '\n",
            " 'the cloud, and we continue to invest in our google cloud offerings, '\n",
            " 'including google cloud platform and google workspace. google cloud platform '\n",
            " 'provides leading technology in cybersecurity ; data, analytics, ai, and '\n",
            " 'machine learning ; and infrastructure. our cybersecurity products help '\n",
            " 'customers detect, protect, and respond to a broad range of cybersecurity '\n",
            " 'threats. our data cloud unifies data lakes, data warehouses, data '\n",
            " 'governance, and advanced machine learning into a single platform that can '\n",
            " 'analyze data across any cloud. we provide')\n",
            "\n",
            "\n",
            "('customers an open, reliable, and scalable infrastructure that enables them '\n",
            " 'to run workloads anywhere — on our cloud, at the edge, or in their data '\n",
            " \"centers. additionally, google workspace's easy - to - use and secure \"\n",
            " 'communication and collaboration tools, which include apps like gmail, docs, '\n",
            " 'drive, calendar, meet, and more, enable secure hybrid work, boosting '\n",
            " 'productivity and collaboration. other bets across alphabet we are also using '\n",
            " 'technology to try to solve big problems that affect a wide variety of '\n",
            " 'industries from improving transportation and health technology to exploring '\n",
            " 'solutions to address climate change. alphabet ’ s investment in the '\n",
            " 'portfolio of other bets includes businesses that are at various stages of '\n",
            " 'development, ranging from those in the r & d phase to those that are in the '\n",
            " 'beginning stages of commercialization. our goal is for them to become '\n",
            " 'thriving, successful businesses. other bets operate as independent companies '\n",
            " 'and some of them have their own 6')\n",
            "\n",
            "\n",
            "('we are focused on building an even more helpful google for everyone, and we '\n",
            " 'aspire to give everyone the tools they need to increase their knowledge, '\n",
            " 'health, happiness, and success. google search helps people find information '\n",
            " 'and make sense of the world in more natural and intuitive ways, with '\n",
            " 'trillions of searches on google every year. youtube provides people with '\n",
            " 'entertainment, information, and opportunities to learn something new. google '\n",
            " 'assistant offers the best way to get things done seamlessly across different '\n",
            " \"devices, providing intelligent help throughout a person's day, no matter \"\n",
            " 'where they are. google cloud helps customers solve today ’ s business '\n",
            " 'challenges, improve productivity, reduce costs, and unlock new growth '\n",
            " 'engines. we are continually innovating and building new products and '\n",
            " 'features that will help our users, partners, customers, and communities and '\n",
            " 'have invested more than $ 100 billion in research and development in the '\n",
            " 'last five years in support of these efforts. 4')\n",
            "\n",
            "\n"
          ]
        }
      ]
    },
    {
      "cell_type": "code",
      "execution_count": 19,
      "id": "ffdde87b-71fc-4f2e-8b40-bcd881e3fe09",
      "metadata": {
        "colab": {
          "base_uri": "https://localhost:8080/",
          "height": 35
        },
        "id": "ffdde87b-71fc-4f2e-8b40-bcd881e3fe09",
        "outputId": "ad289ca4-4ea4-4488-d565-50ab5ae89e11"
      },
      "outputs": [
        {
          "output_type": "stream",
          "name": "stdout",
          "text": [
            "Google Cloud Platform provides leading technology in cybersecurity; data, analytics, AI, and machine learning; and infrastructure.\n"
          ]
        }
      ],
      "source": [
        "# Generate the response using the RAG function with the provided query and retrieved documents\n",
        "output = rag(query=query, retrieved_documents=retrieved_documents)\n",
        "\n",
        "# Print the generated response\n",
        "print(output)"
      ]
    },
    {
      "cell_type": "code",
      "execution_count": null,
      "id": "a7794092-4195-4cf3-9eab-11c9c05a26b9",
      "metadata": {
        "id": "a7794092-4195-4cf3-9eab-11c9c05a26b9"
      },
      "outputs": [],
      "source": []
    },
    {
      "cell_type": "code",
      "execution_count": null,
      "id": "f2cab7a1-1be7-45f0-83b7-543e48f83901",
      "metadata": {
        "id": "f2cab7a1-1be7-45f0-83b7-543e48f83901"
      },
      "outputs": [],
      "source": []
    }
  ],
  "metadata": {
    "kernelspec": {
      "display_name": "Python 3 (ipykernel)",
      "language": "python",
      "name": "python3"
    },
    "language_info": {
      "codemirror_mode": {
        "name": "ipython",
        "version": 3
      },
      "file_extension": ".py",
      "mimetype": "text/x-python",
      "name": "python",
      "nbconvert_exporter": "python",
      "pygments_lexer": "ipython3",
      "version": "3.10.13"
    },
    "colab": {
      "provenance": [],
      "include_colab_link": true
    }
  },
  "nbformat": 4,
  "nbformat_minor": 5
}